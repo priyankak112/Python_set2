{
 "cells": [
  {
   "cell_type": "code",
   "execution_count": 11,
   "id": "7fe4b274-5029-4dc0-9259-5399e7a4d933",
   "metadata": {},
   "outputs": [
    {
     "name": "stdin",
     "output_type": "stream",
     "text": [
      "Enter the amount 0\n"
     ]
    },
    {
     "name": "stdout",
     "output_type": "stream",
     "text": [
      "Zero(No Transaction)\n"
     ]
    }
   ],
   "source": [
    "#Transaction postive negative zero\n",
    "def trans_cat(amt):\n",
    "    if(amt>0):\n",
    "        return \"Positive(Deposit)\"\n",
    "    elif(amt<0):\n",
    "        return \"negative(Withdrawal)\"\n",
    "    else:\n",
    "        return \"Zero(No Transaction)\"\n",
    "    \n",
    "amount=int(input(\"Enter the amount\"))\n",
    "print(trans_cat(amount))"
   ]
  },
  {
   "cell_type": "code",
   "execution_count": 18,
   "id": "e19cb6c2-f35b-4e32-8e66-62e450127e56",
   "metadata": {},
   "outputs": [
    {
     "name": "stdin",
     "output_type": "stream",
     "text": [
      "Enter the passcode 2345\n"
     ]
    },
    {
     "name": "stdout",
     "output_type": "stream",
     "text": [
      "Sum of the digits is: 14\n"
     ]
    }
   ],
   "source": [
    "#sum of digits in passcode\n",
    "\n",
    "pass_code=int(input(\"Enter the passcode\"))\n",
    "tot_sum=0\n",
    "while pass_code>0:\n",
    "    last_dig=pass_code%10\n",
    "    tot_sum+=last_dig\n",
    "    pass_code=pass_code//10\n",
    "\n",
    "#res=sum(int(digit) for digit in str(num)) -- generator expression for short and efficeint way of adding-- integer cannot be iterated directly so make it string\n",
    "\n",
    "print(\"Sum of the digits is:\",tot_sum)\n",
    "    "
   ]
  },
  {
   "cell_type": "code",
   "execution_count": 22,
   "id": "c6a2a8d0-4081-4f17-91a4-5b7896c8ff35",
   "metadata": {},
   "outputs": [
    {
     "name": "stdin",
     "output_type": "stream",
     "text": [
      "Enter the transaction ID: 1234\n"
     ]
    },
    {
     "name": "stdout",
     "output_type": "stream",
     "text": [
      "After reverse: 4321\n"
     ]
    }
   ],
   "source": [
    "#reverse the number (TransactionID)\n",
    "trans_id=int(input(\"Enter the transaction ID:\"))\n",
    "str1=str(trans_id)\n",
    "res_id=str1[::-1]\n",
    "print(\"After reverse:\",int(res_id))"
   ]
  },
  {
   "cell_type": "code",
   "execution_count": 40,
   "id": "0a14c926-bf94-4092-ae5d-579075baea88",
   "metadata": {},
   "outputs": [
    {
     "name": "stdin",
     "output_type": "stream",
     "text": [
      "Enter ID to check prime: 2346\n"
     ]
    },
    {
     "name": "stdout",
     "output_type": "stream",
     "text": [
      "NOT A prime number\n"
     ]
    }
   ],
   "source": [
    "#4.check prime number\n",
    "import math\n",
    "def checkPrime(n):\n",
    "    if(n<2):\n",
    "        return False\n",
    "    for i in range(2,int(math.sqrt(n))+1):\n",
    "        if(n%i==0):\n",
    "            return False\n",
    "    else:\n",
    "        return True\n",
    "num=int(input(\"Enter ID to check prime:\"))\n",
    "if(checkPrime(num)):\n",
    "    print(\"prime number\")\n",
    "else:\n",
    "     print(\"NOT A prime number\")\n",
    " \n",
    "           "
   ]
  },
  {
   "cell_type": "code",
   "execution_count": 47,
   "id": "37dc46e9-8148-4d45-9f2e-4225f7e5fb8b",
   "metadata": {},
   "outputs": [
    {
     "name": "stdin",
     "output_type": "stream",
     "text": [
      "Enter the number to find factorial: 5\n"
     ]
    },
    {
     "name": "stdout",
     "output_type": "stream",
     "text": [
      "The factorial is 120\n"
     ]
    }
   ],
   "source": [
    "#factorial using recursion\n",
    "def fact(n):\n",
    "    \n",
    "    if n==0 or n==1:\n",
    "         return 1\n",
    "    else:\n",
    "        return n*fact(n-1)\n",
    "\n",
    "num=int(input(\"Enter the number to find factorial:\"))\n",
    "print(\"The factorial is\",fact(num))"
   ]
  },
  {
   "cell_type": "code",
   "execution_count": 57,
   "id": "3339a7e8-309d-4f59-86cf-0bfdb56e4e80",
   "metadata": {},
   "outputs": [
    {
     "name": "stdin",
     "output_type": "stream",
     "text": [
      "Enter the number to identify Amstrong: 370\n"
     ]
    },
    {
     "name": "stdout",
     "output_type": "stream",
     "text": [
      "count of digits 3\n",
      "total 370\n",
      "Amstrong number\n"
     ]
    }
   ],
   "source": [
    "#Amsrtong number\n",
    "num=input(\"Enter the number to identify Amstrong:\")\n",
    "count=len(num)\n",
    "print(\"count of digits\",count)\n",
    "#generalized expression\n",
    "total=sum(int(digit)**count for digit in num)\n",
    "print(\"total\",total)\n",
    "if(total==int(num)):\n",
    "    print(\"Amstrong number\")\n",
    "else:\n",
    "    print(\"Not an amstrong number\")\n",
    "\n",
    "\n",
    "\n",
    "\n",
    "\n"
   ]
  },
  {
   "cell_type": "code",
   "execution_count": 65,
   "id": "5f8d4635-df1a-41d8-9e26-5d991027a6b9",
   "metadata": {},
   "outputs": [
    {
     "name": "stdin",
     "output_type": "stream",
     "text": [
      "Enter the first string: EAS T\n",
      "Enter the second string: sE A T\n"
     ]
    },
    {
     "name": "stdout",
     "output_type": "stream",
     "text": [
      "Anagram\n"
     ]
    }
   ],
   "source": [
    "#Anagram check\n",
    "list_str1=[]\n",
    "list_str2=[]\n",
    "str1=input(\"Enter the first string:\")\n",
    "str2=input(\"Enter the second string:\")\n",
    "new_str1=str1.lower().replace(\" \",\"\")\n",
    "new_str2=str2.lower().replace(\" \",\"\")\n",
    "list_str1=sorted(new_str1)\n",
    "list_str2=sorted(new_str2)\n",
    "res_str1=\"\".join(list_str1)\n",
    "res_str2=\"\".join(list_str2)\n",
    "if(res_str1==res_str2):\n",
    "    print(\"Anagram\")\n",
    "else:\n",
    "    print(\"Not an anagram\")\n",
    "    \n"
   ]
  },
  {
   "cell_type": "code",
   "execution_count": 78,
   "id": "c99b98ba-facf-4a51-bedc-c9c32e447ae6",
   "metadata": {},
   "outputs": [
    {
     "name": "stdin",
     "output_type": "stream",
     "text": [
      "Enter the decimal number: 25\n"
     ]
    },
    {
     "name": "stdout",
     "output_type": "stream",
     "text": [
      "10011\n",
      "Binary Representation is: 11001\n"
     ]
    }
   ],
   "source": [
    "#convert a given decimal number into its binary equivalent\n",
    "num=int(input(\"Enter the decimal number:\"))\n",
    "bin_num=\"\"\n",
    "while(num>0):\n",
    "    rem=num%2\n",
    "    bin_num+=str(rem)\n",
    "    num=num//2\n",
    "print(bin_num)\n",
    "res=bin_num[::-1]\n",
    "print(\"Binary Representation is:\",res)"
   ]
  },
  {
   "cell_type": "code",
   "execution_count": 84,
   "id": "9651c487-f670-466a-856c-cb85eb214d0e",
   "metadata": {},
   "outputs": [
    {
     "name": "stdin",
     "output_type": "stream",
     "text": [
      "Enter the string hope ai\n"
     ]
    },
    {
     "name": "stdout",
     "output_type": "stream",
     "text": [
      "After swapping iope ah\n"
     ]
    }
   ],
   "source": [
    "#SWAPPING FIRST AND LAST CHARACTER\n",
    "in_str=input(\"Enter the string\")\n",
    "first_ch=in_str[0]\n",
    "last_ch=in_str[len(in_str)-1]\n",
    "res=list(in_str)\n",
    "res[0]=last_ch\n",
    "res[-1]=first_ch\n",
    "final=\"\".join(res)\n",
    "print(\"After swapping\",final)\n"
   ]
  },
  {
   "cell_type": "code",
   "execution_count": 89,
   "id": "a2274c00-cb70-4687-a332-d863a0978fa7",
   "metadata": {},
   "outputs": [
    {
     "name": "stdin",
     "output_type": "stream",
     "text": [
      "Enter the sentence: my husband is surendracell\n"
     ]
    },
    {
     "name": "stdout",
     "output_type": "stream",
     "text": [
      "The longest word in the sentence is: surendracell\n"
     ]
    }
   ],
   "source": [
    "#find longest word in sentence\n",
    "in_sentence=input(\"Enter the sentence:\")\n",
    "list1=[]\n",
    "list1=in_sentence.split(\" \")\n",
    "#print(list1)\n",
    "long_word=list1[0]\n",
    "n=len(list1)\n",
    "for i in range(1,n):\n",
    "    if(len(list1[i])>len(long_word)):\n",
    "        long_word=list1[i]\n",
    "print(\"The longest word in the sentence is:\",long_word)\n",
    "    "
   ]
  },
  {
   "cell_type": "code",
   "execution_count": null,
   "id": "191e67be-3436-44d2-8afc-b6e55a2bf51f",
   "metadata": {},
   "outputs": [],
   "source": []
  }
 ],
 "metadata": {
  "kernelspec": {
   "display_name": "Python 3 (ipykernel)",
   "language": "python",
   "name": "python3"
  },
  "language_info": {
   "codemirror_mode": {
    "name": "ipython",
    "version": 3
   },
   "file_extension": ".py",
   "mimetype": "text/x-python",
   "name": "python",
   "nbconvert_exporter": "python",
   "pygments_lexer": "ipython3",
   "version": "3.13.5"
  }
 },
 "nbformat": 4,
 "nbformat_minor": 5
}
