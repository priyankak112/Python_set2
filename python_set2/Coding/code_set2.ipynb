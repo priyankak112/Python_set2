{
 "cells": [
  {
   "cell_type": "code",
   "execution_count": 7,
   "id": "c667f32f-5759-440c-890b-dd8689645345",
   "metadata": {},
   "outputs": [
    {
     "name": "stdin",
     "output_type": "stream",
     "text": [
      "Enter the string to reverse hello\n"
     ]
    },
    {
     "name": "stdout",
     "output_type": "stream",
     "text": [
      "The reverse string is: olleh\n"
     ]
    }
   ],
   "source": [
    "#1.Write a Python program to find the reverse of a string.\n",
    "list1=[]\n",
    "in_name=input(\"Enter the string to reverse\")\n",
    "list1=list(in_name)\n",
    "list1.reverse()\n",
    "out_name=\"\".join(list1)\n",
    "print(\"The reverse string is:\",out_name)"
   ]
  },
  {
   "cell_type": "code",
   "execution_count": 10,
   "id": "5587bf29-fb2a-4582-8e89-503557097891",
   "metadata": {},
   "outputs": [
    {
     "name": "stdout",
     "output_type": "stream",
     "text": [
      "[0, 1, 1, 2, 3, 5, 8, 13, 21, 34]\n"
     ]
    }
   ],
   "source": [
    "#2.Write a Python program to generate the Fibonacci sequence up to 10 terms\n",
    "sequence=[0,1]\n",
    "for i in range(2,10):\n",
    "        sequence.append(sequence[-1]+sequence[-2])\n",
    "print(sequence)\n"
   ]
  },
  {
   "cell_type": "code",
   "execution_count": 16,
   "id": "82e75384-28e8-4055-8721-2df461b1c3cd",
   "metadata": {},
   "outputs": [
    {
     "name": "stdin",
     "output_type": "stream",
     "text": [
      "Enter the string to check palindrome priya\n"
     ]
    },
    {
     "name": "stdout",
     "output_type": "stream",
     "text": [
      "Not a palindrome\n"
     ]
    }
   ],
   "source": [
    "#Write a Python function to check if a given string is a palindrome.\n",
    "def palin_fn(s):\n",
    "     return s==s[::-1]  #slicing operator :: take entire string and reverse it and make a copy of it     \n",
    "\n",
    "\n",
    "in_name=input(\"Enter the string to check palindrome\")\n",
    "if(palin_fn(in_name)):\n",
    "    print(\"It is a palindrome\")\n",
    "else:\n",
    "    print(\"Not a palindrome\")"
   ]
  },
  {
   "cell_type": "code",
   "execution_count": 26,
   "id": "65cae024-fe37-4346-a6f6-6379d4217afe",
   "metadata": {},
   "outputs": [
    {
     "name": "stdin",
     "output_type": "stream",
     "text": [
      "Enter the string: hello\n"
     ]
    },
    {
     "name": "stdout",
     "output_type": "stream",
     "text": [
      "number of vowels: 2\n"
     ]
    }
   ],
   "source": [
    "#4.Write a Python program to count the number of vowels in a given string. \n",
    "\n",
    "in_str=input(\"Enter the string:\")\n",
    "sum=0\n",
    "vowel=\"aeiouAEIOU\"\n",
    "for n in in_str:\n",
    "    if n in vowel:\n",
    "        sum+=1\n",
    "print(\"number of vowels:\",sum)\n",
    "\n",
    "\n",
    "\n",
    "\n",
    "\n",
    "\n",
    "\n"
   ]
  },
  {
   "cell_type": "code",
   "execution_count": 27,
   "id": "d2256f39-9fe1-4ee5-8d29-75e8b24e7cd3",
   "metadata": {},
   "outputs": [
    {
     "name": "stdout",
     "output_type": "stream",
     "text": [
      "[1, 2, 3, 4, 5, 6]\n"
     ]
    }
   ],
   "source": [
    "#5.Write a Python program to remove duplicates from a list.\n",
    "#just by making list as set it will remove all duplicates from list\n",
    "list1=[1,2,2,3,4,4,4,5,5,6,6]\n",
    "out_list=list(set(list1))\n",
    "#difference between set (no duplicates) and sequence is set is unordered but seq(contain duplicates) is ordered collection of elements\n",
    "print(out_list)\n"
   ]
  },
  {
   "cell_type": "code",
   "execution_count": null,
   "id": "6d29c23a-03be-4d2b-92b9-577ab2668de2",
   "metadata": {},
   "outputs": [],
   "source": []
  }
 ],
 "metadata": {
  "kernelspec": {
   "display_name": "Python 3 (ipykernel)",
   "language": "python",
   "name": "python3"
  },
  "language_info": {
   "codemirror_mode": {
    "name": "ipython",
    "version": 3
   },
   "file_extension": ".py",
   "mimetype": "text/x-python",
   "name": "python",
   "nbconvert_exporter": "python",
   "pygments_lexer": "ipython3",
   "version": "3.13.5"
  }
 },
 "nbformat": 4,
 "nbformat_minor": 5
}
